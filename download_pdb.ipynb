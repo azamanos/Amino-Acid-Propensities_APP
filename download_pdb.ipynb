{
 "cells": [
  {
   "cell_type": "code",
   "execution_count": 1,
   "id": "c99718d8-89e5-438a-b25f-6fb4520f160d",
   "metadata": {},
   "outputs": [],
   "source": [
    "import os\n",
    "from multiprocessing import Pool, Manager\n",
    "from urllib.parse import urlparse\n",
    "from urllib.request import urlretrieve\n",
    "import requests\n",
    "import numpy as np\n",
    "from requests.adapters import HTTPAdapter\n",
    "from urllib3.util.retry import Retry"
   ]
  },
  {
   "cell_type": "code",
   "execution_count": 2,
   "id": "b250e3fd-0d7b-4f44-bf45-6084ba3e2624",
   "metadata": {
    "jupyter": {
     "source_hidden": true
    }
   },
   "outputs": [],
   "source": [
    "# Function to download a single file (supports FTP and HTTP)\n",
    "def download_file(url, save_path):\n",
    "    filename = url.split(\"/\")[-1]\n",
    "    if os.path.exists(save_path):\n",
    "        print(f\"{filename} exists to {save_path}\")\n",
    "    file_path = os.path.join(save_path, filename)\n",
    "\n",
    "    parsed_url = urlparse(url)\n",
    "    scheme = parsed_url.scheme.lower()\n",
    "\n",
    "    try:\n",
    "        if scheme in ['http', 'https']:\n",
    "            session = requests.Session()\n",
    "            retries = Retry(\n",
    "                total=5,\n",
    "                backoff_factor=1,\n",
    "                status_forcelist=[429, 500, 502, 503, 504],\n",
    "                raise_on_status=False\n",
    "            )\n",
    "            adapter = HTTPAdapter(max_retries=retries)\n",
    "            session.mount(\"http://\", adapter)\n",
    "            session.mount(\"https://\", adapter)\n",
    "\n",
    "            response = session.get(url, stream=True, timeout=10)\n",
    "            response.raise_for_status()\n",
    "\n",
    "            with open(file_path, 'wb') as f:\n",
    "                for chunk in response.iter_content(chunk_size=8192):\n",
    "                    if chunk:\n",
    "                        f.write(chunk)\n",
    "            print(f\"Downloaded {filename} via HTTP to {save_path}\")\n",
    "\n",
    "        elif scheme == 'ftp':\n",
    "            urlretrieve(url, file_path)\n",
    "            print(f\"Downloaded {filename} via FTP to {save_path}\")\n",
    "\n",
    "        else:\n",
    "            print(f\"Unsupported URL scheme for: {url}\")\n",
    "\n",
    "    except Exception as e:\n",
    "        print(f\"Failed to download {url}: {e}\")\n",
    "\n",
    "# Function to download multiple files using multiprocessing\n",
    "def download_files(urls, save_path, num_processes=4):\n",
    "    if not os.path.exists(save_path):\n",
    "        os.makedirs(save_path)\n",
    "\n",
    "    with Pool(processes=num_processes) as pool:\n",
    "        pool.starmap(download_file, [(url, save_path) for url in urls])"
   ]
  },
  {
   "cell_type": "code",
   "execution_count": 5,
   "id": "88167ebf-382a-4c52-a2a0-71ed29ea85f1",
   "metadata": {
    "scrolled": true
   },
   "outputs": [],
   "source": [
    "file_list = np.load('prot_rep.npy')\n",
    "download_list = [f'https://files.rcsb.org/download/{i}.cif' for i in np.unique(file_list[:,0])]\n",
    "#download_files(download_list, './PDB/', num_processes=50)"
   ]
  },
  {
   "cell_type": "code",
   "execution_count": 4,
   "id": "7ef6f1ce-aa89-4744-b38d-4fa31120f39d",
   "metadata": {},
   "outputs": [
    {
     "name": "stdout",
     "output_type": "stream",
     "text": [
      "565 16683 17248 17248\n"
     ]
    }
   ],
   "source": [
    "mpun, pun = np.unique(np.load('mem_prot_rep.npy')[:,0]), np.unique(np.load('prot_rep.npy')[:,0])\n",
    "print(len(mpun), len(pun), len(mpun)+len(pun), len(np.unique(list(mpun)+list(pun))))"
   ]
  }
 ],
 "metadata": {
  "kernelspec": {
   "display_name": "Python 3 (ipykernel)",
   "language": "python",
   "name": "python3"
  },
  "language_info": {
   "codemirror_mode": {
    "name": "ipython",
    "version": 3
   },
   "file_extension": ".py",
   "mimetype": "text/x-python",
   "name": "python",
   "nbconvert_exporter": "python",
   "pygments_lexer": "ipython3",
   "version": "3.11.5"
  }
 },
 "nbformat": 4,
 "nbformat_minor": 5
}
