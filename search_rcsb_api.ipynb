{
 "cells": [
  {
   "cell_type": "code",
   "execution_count": 1,
   "id": "3355c626-5a97-48a5-a6eb-21bfdb6d41a2",
   "metadata": {},
   "outputs": [],
   "source": [
    "import csv\n",
    "import numpy as np\n",
    "from rcsbapi.search import TextQuery\n",
    "from rcsbapi.data import DataQuery as Query\n",
    "from rcsbapi.search import search_attributes as attrs"
   ]
  },
  {
   "cell_type": "code",
   "execution_count": 63,
   "id": "7fb2f3e5-966a-43ec-bc08-a6eeca3e33cb",
   "metadata": {},
   "outputs": [],
   "source": [
    "resolution = 2.8\n",
    "#Membrane proteins\n",
    "q1 = attrs.rcsb_polymer_entity_annotation.type == 'PDBTM'\n",
    "q2 = attrs.rcsb_polymer_entity_annotation.type == 'MemProtMD'\n",
    "q3 = attrs.rcsb_polymer_entity_annotation.type == 'OPM'\n",
    "q4 = attrs.rcsb_polymer_entity_annotation.type == 'mpstruc'\n",
    "#Date\n",
    "q5 = attrs.rcsb_accession_info.deposit_date >= '2000-01-01'\n",
    "#Resolution x-ray\n",
    "q6 = attrs.rcsb_entry_info.diffrn_resolution_high.value <= resolution\n",
    "#Resolution cryo-EM\n",
    "q7 = attrs.em_3d_reconstruction.resolution <= resolution\n",
    "#Proteins\n",
    "q8 = attrs.entity_poly.rcsb_entity_polymer_type == \"Protein\"\n",
    "\n",
    "#Membrane search\n",
    "query = (q1 | q2 | q3 | q4) & q5 & (q6 | q7) & q8\n",
    "#All protein search\n",
    "query = q5 & (q6 | q7) & q8\n",
    "\n",
    "ids_list = list(query())"
   ]
  },
  {
   "cell_type": "code",
   "execution_count": 64,
   "id": "02fc0e9e-ab21-4251-9f72-3adedc0ed417",
   "metadata": {
    "scrolled": true
   },
   "outputs": [
    {
     "name": "stderr",
     "output_type": "stream",
     "text": [
      "WARNING: More than 50000 IDs were provided as input. Query may take several minutes to complete.\n"
     ]
    }
   ],
   "source": [
    "query = Query(\n",
    "    input_type=\"entries\",\n",
    "    input_ids=ids_list,\n",
    "    # Requesting \"exptl\" will return a query requesting exptl.method, exptl.details, etc\n",
    "    #return_data_list=['rcsb_id', 'asym_ids', 'pdbx_seq_one_letter_code_can', 'rcsb_polymer_entity']\n",
    "    return_data_list=['rcsb_id', 'polymer_entities.rcsb_polymer_entity_container_identifiers.asym_ids',\\\n",
    "                      'polymer_entities.entity_poly.pdbx_seq_one_letter_code_can',\\\n",
    "                      'polymer_entities.entity_poly.type']\n",
    ")\n",
    "result_dict = query.exec()"
   ]
  },
  {
   "cell_type": "code",
   "execution_count": 65,
   "id": "65e99d0f-624f-4c8c-8795-6dd4c4af99ae",
   "metadata": {},
   "outputs": [],
   "source": [
    "search_list = []\n",
    "for i in result_dict['data']['entries']:\n",
    "    pdb_id = i['rcsb_id']\n",
    "    chains = ', '.join(i['polymer_entities'][0]['rcsb_polymer_entity_container_identifiers']['asym_ids'])\n",
    "    sequence = i['polymer_entities'][0]['entity_poly']['pdbx_seq_one_letter_code_can']\n",
    "    mol_type = i['polymer_entities'][0]['entity_poly']['type']\n",
    "    search_list.append([pdb_id,chains,sequence,mol_type])"
   ]
  },
  {
   "cell_type": "code",
   "execution_count": 5,
   "id": "d9c97e19-d814-4d5a-b7e8-f504daa20a25",
   "metadata": {},
   "outputs": [],
   "source": [
    "path = \"./data/high_resolution_2dot8_membrane_protein_sequences_after_2000.csv\"\n",
    "with open(path, \"w\", newline='') as f:\n",
    "    writer = csv.writer(f)\n",
    "    writer.writerows(search_list)   # writes all the inner lists as rows"
   ]
  }
 ],
 "metadata": {
  "kernelspec": {
   "display_name": "Python 3 (ipykernel)",
   "language": "python",
   "name": "python3"
  },
  "language_info": {
   "codemirror_mode": {
    "name": "ipython",
    "version": 3
   },
   "file_extension": ".py",
   "mimetype": "text/x-python",
   "name": "python",
   "nbconvert_exporter": "python",
   "pygments_lexer": "ipython3",
   "version": "3.9.23"
  }
 },
 "nbformat": 4,
 "nbformat_minor": 5
}
