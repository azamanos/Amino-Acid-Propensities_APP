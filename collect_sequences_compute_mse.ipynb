{
 "cells": [
  {
   "cell_type": "code",
   "execution_count": 2,
   "id": "120ef59f-945a-4fe5-9337-994e062657ad",
   "metadata": {},
   "outputs": [],
   "source": [
    "import os\n",
    "import csv\n",
    "import numpy as np"
   ]
  },
  {
   "cell_type": "code",
   "execution_count": 3,
   "id": "c9f8578c-6ee9-480e-bd17-28f57b3cbc99",
   "metadata": {
    "jupyter": {
     "source_hidden": true
    }
   },
   "outputs": [],
   "source": [
    "###\n",
    "#LEGACY\n",
    "###\n",
    "\n",
    "# with open('./data/high_resolution_2_membrane_protein_sequences_after_2000.csv', newline='') as f:\n",
    "#     reader = csv.reader(f)\n",
    "#     file = list(reader)  # convert the reader to a list of rows\n",
    "# membrane_pdb_ids = []\n",
    "# for line in file[2:]:\n",
    "#     if len(line[0])==4:\n",
    "#         pdb_id = line[0]\n",
    "#         membrane_pdb_ids.append(pdb_id)\n",
    "#     elif len(line[0])>1:\n",
    "#         pdb_id = line[0][:2]+line[0][-2:]\n",
    "#         membrane_pdb_ids.append(pdb_id)\n",
    "        \n",
    "# with open('./data/high_resolution_2_protein_sequences_after_2000.csv', newline='') as f:\n",
    "#     reader = csv.reader(f)\n",
    "#     file = list(reader)  # convert the reader to a list of rows\n",
    "\n",
    "# fasta = []\n",
    "# names = []\n",
    "# for line in file[2:]:\n",
    "#     if len(line[0])==4:\n",
    "#         pdb_id = line[0]\n",
    "#     elif len(line[0])>1:\n",
    "#         pdb_id = line[0][:2]+line[0][-2:]\n",
    "#     if not len(line[2]) or line[0] == 'Entry ID' or line[-2] != 'polypeptide(L)' or pdb_id in membrane_pdb_ids:\n",
    "#         continue\n",
    "#     #line = line.split(',')\n",
    "#     chains = [i.strip() for i in line[2].split(',')]\n",
    "#     if len(chains)-1:\n",
    "#         for c in chains:\n",
    "#             fasta.append(f'>{pdb_id}_{c}')\n",
    "#             names.append(f'>{pdb_id}_{c}')\n",
    "#             fasta.append(line[6])\n",
    "#     else:\n",
    "#         fasta.append(f'>{pdb_id}_{chains[0]}')\n",
    "#         names.append(f'>{pdb_id}_{chains[0]}')\n",
    "#         fasta.append(line[6])"
   ]
  },
  {
   "cell_type": "code",
   "execution_count": 4,
   "id": "38af7f81-d4ab-45d8-8cb5-6dba3e7f478e",
   "metadata": {},
   "outputs": [],
   "source": [
    "path_mem_proteins = './data/high_resolution_2dot8_membrane_protein_sequences_after_2000.csv'\n",
    "with open(path_mem_proteins, newline='') as f:\n",
    "    reader = csv.reader(f)\n",
    "    mem_file = np.array(list(reader))  # convert the reader to a list of rows\n",
    "membrane_pdb_ids = mem_file[:,0]\n",
    "\n",
    "path_all_proteins = './data/high_resolution_2dot8_protein_sequences_after_2000.csv'\n",
    "with open(path_all_proteins, newline='') as f:\n",
    "    reader = csv.reader(f)\n",
    "    prot_file = np.array(list(reader))  # convert the reader to a list of rows"
   ]
  },
  {
   "cell_type": "code",
   "execution_count": 5,
   "id": "846cfcd3-fe11-41ba-9948-0a4d533746f4",
   "metadata": {},
   "outputs": [],
   "source": [
    "file = np.copy(prot_file)\n",
    "fasta = []\n",
    "names = []\n",
    "for line in file:\n",
    "    pdb_id = line[0]\n",
    "    if line[-1] != 'polypeptide(L)' or pdb_id in membrane_pdb_ids:\n",
    "        continue\n",
    "    #line = line.split(',')\n",
    "    chains = [i.strip() for i in line[1].split(',')]\n",
    "    if len(chains)-1:\n",
    "        for c in chains:\n",
    "            fasta.append(f'>{pdb_id}_{c}')\n",
    "            names.append(f'>{pdb_id}_{c}')\n",
    "            fasta.append(line[2])\n",
    "    else:\n",
    "        fasta.append(f'>{pdb_id}_{chains[0]}')\n",
    "        names.append(f'>{pdb_id}_{chains[0]}')\n",
    "        fasta.append(line[2])"
   ]
  },
  {
   "cell_type": "code",
   "execution_count": 6,
   "id": "20fbfb0e-4238-437f-977c-9d453585c9eb",
   "metadata": {},
   "outputs": [
    {
     "name": "stdout",
     "output_type": "stream",
     "text": [
      "351508 351508\n"
     ]
    }
   ],
   "source": [
    "un, ind, counts = np.unique(names, return_counts=True, return_index=True)\n",
    "print(len(names), len(un))"
   ]
  },
  {
   "cell_type": "code",
   "execution_count": 7,
   "id": "63429e97-30da-4ddb-bc5f-2b09366719b3",
   "metadata": {},
   "outputs": [],
   "source": [
    "with open('./fasta/high_resolution_2dot8_protein_sequences_after_2000.fasta', 'w') as f:\n",
    "    for line in fasta:\n",
    "        f.write(f'{line}\\n')"
   ]
  },
  {
   "cell_type": "code",
   "execution_count": 9,
   "id": "6983d69f-279e-4669-9e49-f81978f97da9",
   "metadata": {
    "scrolled": true
   },
   "outputs": [
    {
     "name": "stderr",
     "output_type": "stream",
     "text": [
      "Segmentation fault (core dumped)\n",
      "Segmentation fault (core dumped)\n",
      "Segmentation fault (core dumped)\n",
      "Segmentation fault (core dumped)\n"
     ]
    },
    {
     "data": {
      "text/plain": [
       "0"
      ]
     },
     "execution_count": 9,
     "metadata": {},
     "output_type": "execute_result"
    }
   ],
   "source": [
    "fasta_path = './fasta/high_resolution_2dot8_protein_sequences_after_2000'\n",
    "# Ensure tmpDir exists\n",
    "os.makedirs('./mmseq_db/tmpDir', exist_ok=True)\n",
    "\n",
    "# Step 1: create sequence DB\n",
    "os.system(f'mmseqs createdb {fasta_path}.fasta ./mmseq_db/inputDB')\n",
    "\n",
    "# Step 2: cluster sequences\n",
    "os.system('mmseqs cluster ./mmseq_db/inputDB ./mmseq_db/clusterDB ./mmseq_db/tmpDir --min-seq-id 0.3 -c 0.8 --cov-mode 1')\n",
    "\n",
    "# Step 3: extract representative sequences\n",
    "os.system('mmseqs result2repseq ./mmseq_db/inputDB ./mmseq_db/clusterDB ./mmseq_db/repDB')\n",
    "\n",
    "# Step 4: convert the repDB to FASTA\n",
    "os.system(f'mmseqs convert2fasta ./mmseq_db/repDB {fasta_path}_representatives.fasta')\n",
    "\n",
    "# Clear mmseq_db dir\n",
    "os.system('rm mmseq_db/* -rf')"
   ]
  },
  {
   "cell_type": "code",
   "execution_count": 27,
   "id": "7f87a559-b4e2-4a99-8d4e-3a3bdbc3160e",
   "metadata": {},
   "outputs": [
    {
     "name": "stdout",
     "output_type": "stream",
     "text": [
      "1185 1185\n"
     ]
    }
   ],
   "source": [
    "with open(f'{fasta_path}_representatives.fasta', 'r') as f:\n",
    "    pdb_chain = []\n",
    "    for line in f.readlines():\n",
    "        if line[0]=='>':\n",
    "            pdb_chain.append(line[1:])\n",
    "pdb_chain_arr = np.array([i.split('_') for i in pdb_chain])\n",
    "print(len(pdb_chain_arr), len(np.unique(pdb_chain_arr[:,0])))\n",
    "#np.save('mem_prot_rep_2dot8.npy', pdb_chain_arr)\n",
    "np.save('prot_rep_2dot8.npy', pdb_chain_arr)"
   ]
  },
  {
   "cell_type": "code",
   "execution_count": 66,
   "id": "a2d62ae0-6cdb-4415-b219-edcbd9535f08",
   "metadata": {},
   "outputs": [
    {
     "name": "stdout",
     "output_type": "stream",
     "text": [
      "17704 16683\n"
     ]
    }
   ],
   "source": [
    "with open('./fasta/high_resolution_2_protein_sequences_after_2000_representatives.fasta', 'r') as f:\n",
    "    pdb_chain = []\n",
    "    for line in f.readlines():\n",
    "        if line[0]=='>':\n",
    "            pdb_chain.append(line[1:])\n",
    "pdb_chain_arr = np.array([i.split('_') for i in pdb_chain])\n",
    "print(len(pdb_chain_arr), len(np.unique(pdb_chain_arr[:,0])))\n",
    "np.save('prot_rep.npy', pdb_chain_arr)"
   ]
  },
  {
   "cell_type": "code",
   "execution_count": null,
   "id": "394b0ffa-aad3-4cc0-a60a-6897b42950ff",
   "metadata": {},
   "outputs": [],
   "source": []
  }
 ],
 "metadata": {
  "kernelspec": {
   "display_name": "Python 3 (ipykernel)",
   "language": "python",
   "name": "python3"
  },
  "language_info": {
   "codemirror_mode": {
    "name": "ipython",
    "version": 3
   },
   "file_extension": ".py",
   "mimetype": "text/x-python",
   "name": "python",
   "nbconvert_exporter": "python",
   "pygments_lexer": "ipython3",
   "version": "3.11.13"
  }
 },
 "nbformat": 4,
 "nbformat_minor": 5
}
